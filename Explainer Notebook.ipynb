{
 "cells": [
  {
   "cell_type": "markdown",
   "metadata": {},
   "source": [
    "#  Explainer Notebook for Hell's Kitchen in NYC\n",
    "\n",
    "* Auther: Skorri Júlíusson, Wei Wang\n",
    "\n",
    "* Course: Social Data Visualization "
   ]
  },
  {
   "cell_type": "markdown",
   "metadata": {},
   "source": [
    "## Motivation\n",
    "\n",
    "In this project, we hope to find the correlation between sanitary condition of a restaurant and its environment. Based on restaurant inspection and rodent inspection, representative to sanitary condition of environment , we hope we could found the correlation between these two datasets. Then, we could perform machine learning algorithm to predict the sanitary condition of a restaurant or environment when either dataset is missing. Thus, we are able inform customer about the sanitary condition of a restaurant even when the sanitary information of a restaurant being unknown.\n",
    "\n",
    "#### Datasets\n",
    "\n",
    "* **Restaurant Inspection** from Department of Health and Mental Hygiene in New York City\n",
    "* **Rodent Inspection** from Department of Health and Mental Hygiene in New York City (The rodent inspection data is barely use in the final webpage since no strong correlation to restaurant inspection dataset)\n",
    "\n",
    "#### Choosing the Datasets\n",
    "\n",
    "Restaurant hygiene is common to relate to rat activity. In this study, we acquire two different datasets which provide restaurant hygiene evaluation and rodent activity record. However, we found out the rodent activity record does not have correlation with the restaurant inspection dataset. We'll put the result of exploring rodent data in the appendix. \n",
    "\n",
    "#### Goal for end user experience "
   ]
  },
  {
   "cell_type": "markdown",
   "metadata": {},
   "source": [
    "## Data exploring\n",
    "\n",
    "#### Data cleaning and preprocessing\n",
    "\n",
    "* Restaurant Inspection\n",
    "\n",
    "* Rodent Inspection\n",
    "\n",
    "\n",
    "#### Stats of Data\n",
    "here you can recycle the work you did for Project Assignment A"
   ]
  },
  {
   "cell_type": "markdown",
   "metadata": {},
   "source": [
    "## Theory\n",
    "\n",
    "#### Machine Learning Tool for Grade"
   ]
  },
  {
   "cell_type": "markdown",
   "metadata": {},
   "source": [
    "We "
   ]
  },
  {
   "cell_type": "markdown",
   "metadata": {},
   "source": [
    "#### Machine Learning Tool for AVPV\n",
    "\n",
    "#### Model Selection\n",
    "\n",
    "* How do you split the data to training/test set\n",
    "\n",
    "* Do you use cross-validation"
   ]
  },
  {
   "cell_type": "markdown",
   "metadata": {},
   "source": [
    "## Visualizations\n",
    "\n",
    "#### Visualization Tool\n",
    "\n",
    "#### Reason that the visualization support the story"
   ]
  },
  {
   "cell_type": "markdown",
   "metadata": {},
   "source": [
    "## Discussion. Think critically about your creation"
   ]
  },
  {
   "cell_type": "code",
   "execution_count": null,
   "metadata": {
    "collapsed": true
   },
   "outputs": [],
   "source": []
  }
 ],
 "metadata": {
  "kernelspec": {
   "display_name": "Python 2",
   "language": "python",
   "name": "python2"
  },
  "language_info": {
   "codemirror_mode": {
    "name": "ipython",
    "version": 2
   },
   "file_extension": ".py",
   "mimetype": "text/x-python",
   "name": "python",
   "nbconvert_exporter": "python",
   "pygments_lexer": "ipython2",
   "version": "2.7.11"
  }
 },
 "nbformat": 4,
 "nbformat_minor": 0
}
